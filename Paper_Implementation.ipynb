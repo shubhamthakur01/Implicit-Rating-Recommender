{
 "cells": [
  {
   "cell_type": "code",
   "execution_count": 1,
   "id": "ac9358bf",
   "metadata": {
    "ExecuteTime": {
     "end_time": "2022-03-16T05:25:53.941351Z",
     "start_time": "2022-03-16T05:25:50.682755Z"
    }
   },
   "outputs": [],
   "source": [
    "import torch.nn as nn\n",
    "import torch.autograd as autograd\n",
    "import torch\n",
    "import pandas as pd\n",
    "from pathlib import Path\n",
    "import numpy as np\n",
    "import torch.optim as optim\n",
    "from torch.utils.data import Dataset, DataLoader\n",
    "import torch.nn.functional as F\n",
    "import random\n",
    "from sklearn.metrics import roc_auc_score"
   ]
  },
  {
   "cell_type": "code",
   "execution_count": 69,
   "id": "bab70f53",
   "metadata": {
    "ExecuteTime": {
     "end_time": "2022-03-02T18:40:20.640176Z",
     "start_time": "2022-03-02T18:40:20.634220Z"
    }
   },
   "outputs": [],
   "source": [
    "PATH = Path(\"./\")"
   ]
  },
  {
   "cell_type": "code",
   "execution_count": 70,
   "id": "b663a227",
   "metadata": {
    "ExecuteTime": {
     "end_time": "2022-03-02T18:40:21.222279Z",
     "start_time": "2022-03-02T18:40:20.992796Z"
    }
   },
   "outputs": [
    {
     "data": {
      "text/html": [
       "<div>\n",
       "<style scoped>\n",
       "    .dataframe tbody tr th:only-of-type {\n",
       "        vertical-align: middle;\n",
       "    }\n",
       "\n",
       "    .dataframe tbody tr th {\n",
       "        vertical-align: top;\n",
       "    }\n",
       "\n",
       "    .dataframe thead th {\n",
       "        text-align: right;\n",
       "    }\n",
       "</style>\n",
       "<table border=\"1\" class=\"dataframe\">\n",
       "  <thead>\n",
       "    <tr style=\"text-align: right;\">\n",
       "      <th></th>\n",
       "      <th>user_id</th>\n",
       "      <th>item_id</th>\n",
       "      <th>context_feature_id</th>\n",
       "    </tr>\n",
       "  </thead>\n",
       "  <tbody>\n",
       "    <tr>\n",
       "      <th>0</th>\n",
       "      <td>0</td>\n",
       "      <td>28366</td>\n",
       "      <td>2</td>\n",
       "    </tr>\n",
       "    <tr>\n",
       "      <th>1</th>\n",
       "      <td>0</td>\n",
       "      <td>16109</td>\n",
       "      <td>2</td>\n",
       "    </tr>\n",
       "    <tr>\n",
       "      <th>2</th>\n",
       "      <td>0</td>\n",
       "      <td>11500</td>\n",
       "      <td>3</td>\n",
       "    </tr>\n",
       "  </tbody>\n",
       "</table>\n",
       "</div>"
      ],
      "text/plain": [
       "   user_id  item_id  context_feature_id\n",
       "0        0    28366                   2\n",
       "1        0    16109                   2\n",
       "2        0    11500                   3"
      ]
     },
     "execution_count": 70,
     "metadata": {},
     "output_type": "execute_result"
    }
   ],
   "source": [
    "df_train = pd.read_csv(\"training.csv\")\n",
    "df_train.head(3)"
   ]
  },
  {
   "cell_type": "code",
   "execution_count": 46,
   "id": "c320bca9",
   "metadata": {
    "ExecuteTime": {
     "end_time": "2022-02-27T05:38:41.778031Z",
     "start_time": "2022-02-27T05:38:41.679335Z"
    }
   },
   "outputs": [],
   "source": [
    "df_test = pd.read_csv(\"test_kaggle.csv\")\n",
    "df_test = df_test.drop(columns = [\"id\"])"
   ]
  },
  {
   "cell_type": "code",
   "execution_count": 47,
   "id": "b695a824",
   "metadata": {
    "ExecuteTime": {
     "end_time": "2022-02-27T05:38:43.007625Z",
     "start_time": "2022-02-27T05:38:42.983635Z"
    }
   },
   "outputs": [
    {
     "data": {
      "text/plain": [
       "array([2, 3, 1, 0])"
      ]
     },
     "execution_count": 47,
     "metadata": {},
     "output_type": "execute_result"
    }
   ],
   "source": [
    "df_train.context_feature_id.unique()"
   ]
  },
  {
   "cell_type": "code",
   "execution_count": 48,
   "id": "0973e898",
   "metadata": {
    "ExecuteTime": {
     "end_time": "2022-02-27T05:38:43.680394Z",
     "start_time": "2022-02-27T05:38:43.659243Z"
    }
   },
   "outputs": [],
   "source": [
    "df_item_f = pd.read_csv(\"item_feature.csv\")"
   ]
  },
  {
   "cell_type": "code",
   "execution_count": 49,
   "id": "615d5a8a",
   "metadata": {
    "ExecuteTime": {
     "end_time": "2022-02-27T05:38:45.142215Z",
     "start_time": "2022-02-27T05:38:45.000009Z"
    }
   },
   "outputs": [],
   "source": [
    "df_train = df_train.merge(df_item_f,how=\"left\",on = \"item_id\")\n",
    "df_test = df_test.merge(df_item_f,how=\"left\",on = \"item_id\")"
   ]
  },
  {
   "cell_type": "code",
   "execution_count": 50,
   "id": "43da86fb",
   "metadata": {
    "ExecuteTime": {
     "end_time": "2022-02-27T05:38:46.525056Z",
     "start_time": "2022-02-27T05:38:46.479824Z"
    }
   },
   "outputs": [],
   "source": [
    "uniq_items = df_train.item_id.unique()\n",
    "uniq_user = df_train.user_id.unique()"
   ]
  },
  {
   "cell_type": "code",
   "execution_count": null,
   "id": "67968741",
   "metadata": {
    "ExecuteTime": {
     "end_time": "2022-02-27T05:38:52.714614Z",
     "start_time": "2022-02-27T05:38:46.917021Z"
    }
   },
   "outputs": [],
   "source": [
    "context_id_mode = df_train.groupby(['user_id']).context_feature_id.agg(lambda x: pd.Series.mode(x)[0]).reset_index()\n",
    "context_id_mode.head()"
   ]
  },
  {
   "cell_type": "code",
   "execution_count": 10,
   "id": "394d1e76",
   "metadata": {
    "ExecuteTime": {
     "end_time": "2022-02-27T00:44:53.276823Z",
     "start_time": "2022-02-27T00:44:52.889778Z"
    }
   },
   "outputs": [],
   "source": [
    "dict_user_cnt =dict(df_train.groupby(['user_id']).item_id.count())"
   ]
  },
  {
   "cell_type": "code",
   "execution_count": 11,
   "id": "5803615c",
   "metadata": {
    "ExecuteTime": {
     "end_time": "2022-02-27T00:44:53.282218Z",
     "start_time": "2022-02-27T00:44:53.277702Z"
    }
   },
   "outputs": [],
   "source": [
    "max_item_new = list(range(max(uniq_items)))"
   ]
  },
  {
   "cell_type": "code",
   "execution_count": 12,
   "id": "074ece21",
   "metadata": {
    "ExecuteTime": {
     "end_time": "2022-02-27T00:51:52.716810Z",
     "start_time": "2022-02-27T00:44:53.283096Z"
    }
   },
   "outputs": [],
   "source": [
    "negative_users = []\n",
    "for user in dict_user_cnt:\n",
    "    items = np.random.choice(max_item_new, size =dict_user_cnt[user], replace= False )\n",
    "    for item in items:\n",
    "        negative_users.append( (user, item) )"
   ]
  },
  {
   "cell_type": "code",
   "execution_count": 13,
   "id": "b5ad5aec",
   "metadata": {
    "ExecuteTime": {
     "end_time": "2022-02-27T00:51:53.144521Z",
     "start_time": "2022-02-27T00:51:52.718022Z"
    }
   },
   "outputs": [],
   "source": [
    "df_neg = pd.DataFrame(negative_users, columns=['user_id', 'item_id'])"
   ]
  },
  {
   "cell_type": "code",
   "execution_count": 14,
   "id": "caf40db0",
   "metadata": {
    "ExecuteTime": {
     "end_time": "2022-02-27T00:51:53.302119Z",
     "start_time": "2022-02-27T00:51:53.145388Z"
    }
   },
   "outputs": [
    {
     "data": {
      "text/html": [
       "<div>\n",
       "<style scoped>\n",
       "    .dataframe tbody tr th:only-of-type {\n",
       "        vertical-align: middle;\n",
       "    }\n",
       "\n",
       "    .dataframe tbody tr th {\n",
       "        vertical-align: top;\n",
       "    }\n",
       "\n",
       "    .dataframe thead th {\n",
       "        text-align: right;\n",
       "    }\n",
       "</style>\n",
       "<table border=\"1\" class=\"dataframe\">\n",
       "  <thead>\n",
       "    <tr style=\"text-align: right;\">\n",
       "      <th></th>\n",
       "      <th>user_id</th>\n",
       "      <th>item_id</th>\n",
       "      <th>context_feature_id</th>\n",
       "      <th>item_feature_id</th>\n",
       "    </tr>\n",
       "  </thead>\n",
       "  <tbody>\n",
       "    <tr>\n",
       "      <th>0</th>\n",
       "      <td>0</td>\n",
       "      <td>17385</td>\n",
       "      <td>2</td>\n",
       "      <td>187</td>\n",
       "    </tr>\n",
       "    <tr>\n",
       "      <th>1</th>\n",
       "      <td>0</td>\n",
       "      <td>16121</td>\n",
       "      <td>2</td>\n",
       "      <td>62</td>\n",
       "    </tr>\n",
       "    <tr>\n",
       "      <th>2</th>\n",
       "      <td>0</td>\n",
       "      <td>9438</td>\n",
       "      <td>2</td>\n",
       "      <td>2</td>\n",
       "    </tr>\n",
       "    <tr>\n",
       "      <th>3</th>\n",
       "      <td>0</td>\n",
       "      <td>2433</td>\n",
       "      <td>2</td>\n",
       "      <td>142</td>\n",
       "    </tr>\n",
       "    <tr>\n",
       "      <th>4</th>\n",
       "      <td>0</td>\n",
       "      <td>24425</td>\n",
       "      <td>2</td>\n",
       "      <td>18</td>\n",
       "    </tr>\n",
       "  </tbody>\n",
       "</table>\n",
       "</div>"
      ],
      "text/plain": [
       "   user_id  item_id  context_feature_id  item_feature_id\n",
       "0        0    17385                   2              187\n",
       "1        0    16121                   2               62\n",
       "2        0     9438                   2                2\n",
       "3        0     2433                   2              142\n",
       "4        0    24425                   2               18"
      ]
     },
     "execution_count": 14,
     "metadata": {},
     "output_type": "execute_result"
    }
   ],
   "source": [
    "df_neg = df_neg.merge(context_id_mode, how= \"left\", on=\"user_id\")\n",
    "df_neg = df_neg.merge(df_item_f,how=\"left\",on = \"item_id\")\n",
    "df_neg.head(5)"
   ]
  },
  {
   "cell_type": "code",
   "execution_count": 15,
   "id": "eee68a78",
   "metadata": {
    "ExecuteTime": {
     "end_time": "2022-02-27T00:51:53.306605Z",
     "start_time": "2022-02-27T00:51:53.303069Z"
    }
   },
   "outputs": [],
   "source": [
    "df_train.insert(df_train.shape[1],'rating',1)\n",
    "df_neg.insert(df_neg.shape[1],'rating',0)"
   ]
  },
  {
   "cell_type": "code",
   "execution_count": 16,
   "id": "d016efdf",
   "metadata": {
    "ExecuteTime": {
     "end_time": "2022-02-27T00:51:53.349555Z",
     "start_time": "2022-02-27T00:51:53.307535Z"
    }
   },
   "outputs": [],
   "source": [
    "df = pd.concat([df_train, df_neg])"
   ]
  },
  {
   "cell_type": "code",
   "execution_count": 17,
   "id": "c2dcc404",
   "metadata": {
    "ExecuteTime": {
     "end_time": "2022-02-27T00:51:53.457809Z",
     "start_time": "2022-02-27T00:51:53.350481Z"
    }
   },
   "outputs": [
    {
     "data": {
      "text/html": [
       "<div>\n",
       "<style scoped>\n",
       "    .dataframe tbody tr th:only-of-type {\n",
       "        vertical-align: middle;\n",
       "    }\n",
       "\n",
       "    .dataframe tbody tr th {\n",
       "        vertical-align: top;\n",
       "    }\n",
       "\n",
       "    .dataframe thead th {\n",
       "        text-align: right;\n",
       "    }\n",
       "</style>\n",
       "<table border=\"1\" class=\"dataframe\">\n",
       "  <thead>\n",
       "    <tr style=\"text-align: right;\">\n",
       "      <th></th>\n",
       "      <th>user_id</th>\n",
       "      <th>item_id</th>\n",
       "      <th>context_feature_id</th>\n",
       "      <th>item_feature_id</th>\n",
       "    </tr>\n",
       "    <tr>\n",
       "      <th>rating</th>\n",
       "      <th></th>\n",
       "      <th></th>\n",
       "      <th></th>\n",
       "      <th></th>\n",
       "    </tr>\n",
       "  </thead>\n",
       "  <tbody>\n",
       "    <tr>\n",
       "      <th>0</th>\n",
       "      <td>970245</td>\n",
       "      <td>970245</td>\n",
       "      <td>970245</td>\n",
       "      <td>970245</td>\n",
       "    </tr>\n",
       "    <tr>\n",
       "      <th>1</th>\n",
       "      <td>970245</td>\n",
       "      <td>970245</td>\n",
       "      <td>970245</td>\n",
       "      <td>970245</td>\n",
       "    </tr>\n",
       "  </tbody>\n",
       "</table>\n",
       "</div>"
      ],
      "text/plain": [
       "        user_id  item_id  context_feature_id  item_feature_id\n",
       "rating                                                       \n",
       "0        970245   970245              970245           970245\n",
       "1        970245   970245              970245           970245"
      ]
     },
     "execution_count": 17,
     "metadata": {},
     "output_type": "execute_result"
    }
   ],
   "source": [
    "df.groupby('rating').count()"
   ]
  },
  {
   "cell_type": "code",
   "execution_count": 19,
   "id": "4ce754aa",
   "metadata": {
    "ExecuteTime": {
     "end_time": "2022-02-27T00:51:53.508453Z",
     "start_time": "2022-02-27T00:51:53.462094Z"
    }
   },
   "outputs": [
    {
     "data": {
      "text/html": [
       "<div>\n",
       "<style scoped>\n",
       "    .dataframe tbody tr th:only-of-type {\n",
       "        vertical-align: middle;\n",
       "    }\n",
       "\n",
       "    .dataframe tbody tr th {\n",
       "        vertical-align: top;\n",
       "    }\n",
       "\n",
       "    .dataframe thead th {\n",
       "        text-align: right;\n",
       "    }\n",
       "</style>\n",
       "<table border=\"1\" class=\"dataframe\">\n",
       "  <thead>\n",
       "    <tr style=\"text-align: right;\">\n",
       "      <th></th>\n",
       "      <th>user_id</th>\n",
       "      <th>item_id</th>\n",
       "      <th>context_feature_id</th>\n",
       "      <th>item_feature_id</th>\n",
       "    </tr>\n",
       "    <tr>\n",
       "      <th>rating</th>\n",
       "      <th></th>\n",
       "      <th></th>\n",
       "      <th></th>\n",
       "      <th></th>\n",
       "    </tr>\n",
       "  </thead>\n",
       "  <tbody>\n",
       "    <tr>\n",
       "      <th>0</th>\n",
       "      <td>970245</td>\n",
       "      <td>970245</td>\n",
       "      <td>970245</td>\n",
       "      <td>970245</td>\n",
       "    </tr>\n",
       "    <tr>\n",
       "      <th>1</th>\n",
       "      <td>970245</td>\n",
       "      <td>970245</td>\n",
       "      <td>970245</td>\n",
       "      <td>970245</td>\n",
       "    </tr>\n",
       "  </tbody>\n",
       "</table>\n",
       "</div>"
      ],
      "text/plain": [
       "        user_id  item_id  context_feature_id  item_feature_id\n",
       "rating                                                       \n",
       "0        970245   970245              970245           970245\n",
       "1        970245   970245              970245           970245"
      ]
     },
     "execution_count": 19,
     "metadata": {},
     "output_type": "execute_result"
    }
   ],
   "source": [
    "df.groupby('rating').count()"
   ]
  },
  {
   "cell_type": "code",
   "execution_count": null,
   "id": "0d6c5081",
   "metadata": {
    "ExecuteTime": {
     "end_time": "2022-02-27T05:39:00.048597Z",
     "start_time": "2022-02-27T05:38:59.960254Z"
    }
   },
   "outputs": [],
   "source": [
    "df.to_csv(\"new_date_with_dup_repeat.csv\")"
   ]
  },
  {
   "cell_type": "markdown",
   "id": "1927d552",
   "metadata": {},
   "source": [
    "# Read the saved DATA and the test Data"
   ]
  },
  {
   "cell_type": "code",
   "execution_count": 24,
   "id": "d91703ca",
   "metadata": {
    "ExecuteTime": {
     "end_time": "2022-03-04T21:37:12.875221Z",
     "start_time": "2022-03-04T21:37:12.441511Z"
    }
   },
   "outputs": [],
   "source": [
    "df = pd.read_csv(\"new_date_with_dup_repeat.csv\")"
   ]
  },
  {
   "cell_type": "code",
   "execution_count": 25,
   "id": "47caf953",
   "metadata": {
    "ExecuteTime": {
     "end_time": "2022-03-04T21:37:12.965536Z",
     "start_time": "2022-03-04T21:37:12.876499Z"
    }
   },
   "outputs": [],
   "source": [
    "df_test = pd.read_csv(\"test_kaggle.csv\")\n",
    "df_test = df_test.drop(columns = [\"id\"])\n",
    "df_item_f = pd.read_csv(\"item_feature.csv\")\n",
    "df_test = df_test.merge(df_item_f,how=\"left\",on = \"item_id\")"
   ]
  },
  {
   "cell_type": "markdown",
   "id": "56c90fa6",
   "metadata": {},
   "source": [
    "# Splitting the Data"
   ]
  },
  {
   "cell_type": "code",
   "execution_count": 26,
   "id": "3c9175de",
   "metadata": {
    "ExecuteTime": {
     "end_time": "2022-03-04T21:37:13.628087Z",
     "start_time": "2022-03-04T21:37:13.515351Z"
    }
   },
   "outputs": [],
   "source": [
    "msk = np.random.rand(len(df)) < 0.8\n",
    "train = df[msk].reset_index(drop=True).copy()\n",
    "valid = df[~msk].reset_index(drop=True).copy()"
   ]
  },
  {
   "cell_type": "code",
   "execution_count": null,
   "id": "f9b281a5",
   "metadata": {},
   "outputs": [],
   "source": [
    "def encode_feature(train, valid, test, encode_dict, feature):\n",
    "    train[feature] = train[feature].apply(lambda x: encode_dict[x])\n",
    "    valid[feature] = valid[feature].apply(lambda x: encode_dict.get(x, 0))\n",
    "    test[feature] = test[feature].apply(lambda x: encode_dict.get(x, 0))\n",
    "    return train, valid, test"
   ]
  },
  {
   "cell_type": "code",
   "execution_count": 27,
   "id": "8c37654b",
   "metadata": {
    "ExecuteTime": {
     "end_time": "2022-03-04T21:37:17.160493Z",
     "start_time": "2022-03-04T21:37:13.872011Z"
    }
   },
   "outputs": [],
   "source": [
    "# User id\n",
    "train_user_ids = np.sort(np.unique(train.user_id.values))\n",
    "userid2idx = {o:i+1 for i,o in enumerate(train_user_ids)}\n",
    "train, valid, df_test = encode_feature(train, valid, test, userid2idx, \"user_id\")\n",
    "\n",
    "# Item_id Encoding\n",
    "train_item_ids = np.sort(np.unique(train.item_id.values))\n",
    "itemid2idx = {o:i+1 for i,o in enumerate(train_item_ids)}\n",
    "train, valid, df_test = encode_feature(train, valid, test, itemid2idx, \"item_id\")\n",
    "\n",
    "#Item Feature id encoding\n",
    "train_item_feature_ids = np.sort(np.unique(train.item_feature_id.values))\n",
    "featureid2idx = {o:i for i,o in enumerate(train_item_feature_ids)}\n",
    "train, valid, df_test = encode_feature(train, valid, test, featureid2idx, \"item_feature_id\")\n",
    "\n",
    "#Item Context id encoding \n",
    "train_context_feature_ids = np.sort(np.unique(train.context_feature_id.values))\n",
    "contextid2idx = {o:i for i,o in enumerate(train_context_feature_ids)}\n",
    "train, valid, df_test = encode_feature(train, valid, test, contextid2idx, \"context_feature_id\")"
   ]
  },
  {
   "cell_type": "markdown",
   "id": "b6c8d8fd",
   "metadata": {},
   "source": [
    "# Create DataLoader"
   ]
  },
  {
   "cell_type": "code",
   "execution_count": 28,
   "id": "0bf38165",
   "metadata": {
    "ExecuteTime": {
     "end_time": "2022-03-04T21:37:17.164658Z",
     "start_time": "2022-03-04T21:37:17.161632Z"
    }
   },
   "outputs": [],
   "source": [
    "class matrix_factorization():\n",
    "    def __init__(self, x1, x2,x3,x4, y):\n",
    "        self.x1 = torch.LongTensor(x1) \n",
    "        self.x2 = torch.LongTensor(x2)\n",
    "        self.x3 = torch.LongTensor(x3)\n",
    "        self.x4 = torch.LongTensor(x4)\n",
    "        self.y = torch.FloatTensor(y)\n",
    "    \n",
    "    def __len__(self):\n",
    "        return len(self.y)\n",
    "    \n",
    "    def __getitem__(self,idx):\n",
    "        return self.x1[idx], self.x2[idx], self.x3[idx], self.x4[idx],self.y[idx]"
   ]
  },
  {
   "cell_type": "code",
   "execution_count": 29,
   "id": "c631f2e3",
   "metadata": {
    "ExecuteTime": {
     "end_time": "2022-03-04T21:37:17.177737Z",
     "start_time": "2022-03-04T21:37:17.166145Z"
    }
   },
   "outputs": [],
   "source": [
    "train_ds = matrix_factorization(train.user_id.values,train.item_id.values,\\\n",
    "                                train.item_feature_id.values,train.context_feature_id.values, train.rating.values)\n",
    "\n",
    "valid_ds = matrix_factorization(valid.user_id.values,valid.item_id.values,\\\n",
    "                                valid.item_feature_id.values,valid.context_feature_id.values, valid.rating.values)"
   ]
  },
  {
   "cell_type": "code",
   "execution_count": 30,
   "id": "78f58fb2",
   "metadata": {
    "ExecuteTime": {
     "end_time": "2022-03-04T21:37:17.181523Z",
     "start_time": "2022-03-04T21:37:17.179006Z"
    }
   },
   "outputs": [],
   "source": [
    "train_dl = DataLoader(train_ds, batch_size = 15000, shuffle = True)\n",
    "valid_dl = DataLoader(valid_ds, batch_size = 15000, shuffle = False)"
   ]
  },
  {
   "cell_type": "code",
   "execution_count": 42,
   "id": "e0e1fe8d",
   "metadata": {
    "ExecuteTime": {
     "end_time": "2022-02-28T04:19:45.739254Z",
     "start_time": "2022-02-28T04:19:45.717227Z"
    }
   },
   "outputs": [],
   "source": [
    "class MF(nn.Module):\n",
    "    def __init__(self, num_users, num_items,num_feature,num_context, emb_size = 100, emb_extra = 5, layer_size_1 = 60,layer_size_2= 10,frac = 0.2):\n",
    "        super(MF, self).__init__()\n",
    "        self.dropout = nn.Dropout(frac)\n",
    "        self.user_emb = nn.Embedding(num_users, emb_size)\n",
    "        self.item_emb = nn.Embedding(num_items, emb_size)\n",
    "        \n",
    "        #init\n",
    "        self.user_emb.weight.data.uniform_(0,0.05)\n",
    "        self.item_emb.weight.data.uniform_(0,0.05)\n",
    "        self.Linear_1 = nn.Linear(emb_size*2, layer_size_1) \n",
    "        self.Linear_2 = nn.Linear(layer_size_1, layer_size_2)\n",
    "        self.output_ = nn.Linear(layer_size_2, 1)\n",
    "        \n",
    "    def forward(self, u,v,f,c):\n",
    "        U = self.user_emb(u)\n",
    "        V = self.item_emb(v)\n",
    "        x = self.Linear_1(torch.cat((U,V),1))\n",
    "        x = torch.relu(x)\n",
    "        x = self.Linear_2(x)\n",
    "        x = F.relu(x)\n",
    "        x = self.dropout(x)\n",
    "        x = self.output_(x)\n",
    "        return x \n",
    "        "
   ]
  },
  {
   "cell_type": "code",
   "execution_count": 31,
   "id": "710e31fd",
   "metadata": {
    "ExecuteTime": {
     "end_time": "2022-03-04T21:40:55.255102Z",
     "start_time": "2022-03-04T21:40:55.236984Z"
    }
   },
   "outputs": [],
   "source": [
    "# here we are not using data loaders because our data fits well in memory\n",
    "def train_epocs(model,train_dl, valid_dl, epochs, optimizer,scheduler):\n",
    "    \n",
    "    for i in range(epochs):\n",
    "        print(f\"epoch no: {i}\")\n",
    "        losses = []\n",
    "        model.train()\n",
    "        for users, items, item_feature, context_id, ratings in train_dl:\n",
    "            msk = np.random.rand(users.shape[0]) < 0.6\n",
    "            users[~msk] = 0\n",
    "            y_hat = model(users, items, item_feature, context_id)\n",
    "            loss = F.binary_cross_entropy_with_logits(y_hat.float(), ratings.unsqueeze(1).float())\n",
    "            optimizer.zero_grad()\n",
    "            loss.backward()\n",
    "            optimizer.step()\n",
    "            losses.append(loss.item())\n",
    "        scheduler.step()\n",
    "        \n",
    "        #print(losses)\n",
    "        train_loss = np.mean(losses)\n",
    "        valid_loss,valid_auc = val_metrics(model, valid_dl)\n",
    "        print(\"train loss %.3f valid loss %.3f auc-roc %.3f\" % (train_loss, valid_loss, valid_auc))"
   ]
  },
  {
   "cell_type": "code",
   "execution_count": 32,
   "id": "ed5f4da2",
   "metadata": {
    "ExecuteTime": {
     "end_time": "2022-03-04T21:40:55.528201Z",
     "start_time": "2022-03-04T21:40:55.514682Z"
    }
   },
   "outputs": [],
   "source": [
    "def val_metrics(model, valid_dl):\n",
    "    model.eval()\n",
    "    losses = []\n",
    "    y_hats = []\n",
    "    ys = []\n",
    "    for users, items, item_feature, context_id, ratings in valid_dl:\n",
    "        y_hat = model(users, items, item_feature, context_id)\n",
    "        loss = F.binary_cross_entropy_with_logits(y_hat.float(), ratings.unsqueeze(1).float())\n",
    "        y_hats.append(y_hat.detach().numpy())\n",
    "        ys.append(ratings.numpy())\n",
    "        losses.append(loss.item())\n",
    "    ys = np.concatenate(ys)\n",
    "    y_hats = np.concatenate(y_hats)\n",
    "    #print(y_hats.shape,ys.shape )\n",
    "    return np.mean(losses), roc_auc_score(ys, y_hats)"
   ]
  },
  {
   "cell_type": "code",
   "execution_count": 33,
   "id": "e8a6ff41",
   "metadata": {
    "ExecuteTime": {
     "end_time": "2022-03-04T21:40:55.888678Z",
     "start_time": "2022-03-04T21:40:55.841824Z"
    }
   },
   "outputs": [],
   "source": [
    "num_users = len(train_user_ids)\n",
    "num_items = len(train_item_ids)\n",
    "num_feature = len(df.item_feature_id.unique())\n",
    "num_context = len(df.context_feature_id.unique())"
   ]
  },
  {
   "cell_type": "code",
   "execution_count": 34,
   "id": "d7319022",
   "metadata": {
    "ExecuteTime": {
     "end_time": "2022-03-04T21:40:56.579093Z",
     "start_time": "2022-03-04T21:40:56.442943Z"
    }
   },
   "outputs": [
    {
     "ename": "NameError",
     "evalue": "name 'MF' is not defined",
     "output_type": "error",
     "traceback": [
      "\u001b[0;31m---------------------------------------------------------------------------\u001b[0m",
      "\u001b[0;31mNameError\u001b[0m                                 Traceback (most recent call last)",
      "\u001b[0;32m/var/folders/dk/33g3mdp15_99xjmt5cn7kk3c0000gn/T/ipykernel_59015/202204268.py\u001b[0m in \u001b[0;36m<module>\u001b[0;34m\u001b[0m\n\u001b[0;32m----> 1\u001b[0;31m model = MF(num_users+1, num_items+1,num_feature,num_context, emb_size = 75, emb_extra = 50,\n\u001b[0m\u001b[1;32m      2\u001b[0m            layer_size_1 = 20,layer_size_2 = 5,frac = 0.15)\n",
      "\u001b[0;31mNameError\u001b[0m: name 'MF' is not defined"
     ]
    }
   ],
   "source": [
    "model = MF(num_users+1, num_items+1,num_feature,num_context, emb_size = 75, emb_extra = 50,\n",
    "           layer_size_1 = 20,layer_size_2 = 5,frac = 0.15)"
   ]
  },
  {
   "cell_type": "code",
   "execution_count": 62,
   "id": "5c9ae65a",
   "metadata": {
    "ExecuteTime": {
     "end_time": "2022-02-28T04:31:03.422817Z",
     "start_time": "2022-02-28T04:31:03.413313Z"
    }
   },
   "outputs": [],
   "source": [
    "from torch.optim.lr_scheduler import StepLR,ExponentialLR\n",
    "learning_rate = 0.001\n",
    "wd=0.2\n",
    "epochs = 4\n",
    "optimizer = torch.optim.AdamW(model.parameters(), lr=learning_rate,weight_decay=wd)\n",
    "#scheduler = StepLR(optimizer, step_size=5, gamma=0.1,verbose=False)\n",
    "scheduler = ExponentialLR(optimizer, gamma=0.9)"
   ]
  },
  {
   "cell_type": "code",
   "execution_count": 63,
   "id": "f9bb0f11",
   "metadata": {
    "ExecuteTime": {
     "end_time": "2022-02-28T04:33:47.928848Z",
     "start_time": "2022-02-28T04:31:05.911567Z"
    }
   },
   "outputs": [
    {
     "name": "stdout",
     "output_type": "stream",
     "text": [
      "epoch no: 0\n",
      "train loss 0.397 valid loss 0.481 auc-roc 0.892\n",
      "epoch no: 1\n",
      "train loss 0.384 valid loss 0.478 auc-roc 0.890\n",
      "epoch no: 2\n",
      "train loss 0.373 valid loss 0.476 auc-roc 0.890\n",
      "epoch no: 3\n"
     ]
    },
    {
     "ename": "KeyboardInterrupt",
     "evalue": "",
     "output_type": "error",
     "traceback": [
      "\u001b[0;31m---------------------------------------------------------------------------\u001b[0m",
      "\u001b[0;31mKeyboardInterrupt\u001b[0m                         Traceback (most recent call last)",
      "\u001b[0;32m/var/folders/dk/33g3mdp15_99xjmt5cn7kk3c0000gn/T/ipykernel_32742/457245663.py\u001b[0m in \u001b[0;36m<module>\u001b[0;34m\u001b[0m\n\u001b[0;32m----> 1\u001b[0;31m \u001b[0mtrain_epocs\u001b[0m\u001b[0;34m(\u001b[0m\u001b[0mmodel\u001b[0m\u001b[0;34m,\u001b[0m\u001b[0mtrain_dl\u001b[0m\u001b[0;34m,\u001b[0m \u001b[0mvalid_dl\u001b[0m\u001b[0;34m,\u001b[0m \u001b[0mepochs\u001b[0m\u001b[0;34m,\u001b[0m \u001b[0moptimizer\u001b[0m\u001b[0;34m,\u001b[0m\u001b[0mscheduler\u001b[0m\u001b[0;34m)\u001b[0m\u001b[0;34m\u001b[0m\u001b[0;34m\u001b[0m\u001b[0m\n\u001b[0m",
      "\u001b[0;32m/var/folders/dk/33g3mdp15_99xjmt5cn7kk3c0000gn/T/ipykernel_32742/2510917411.py\u001b[0m in \u001b[0;36mtrain_epocs\u001b[0;34m(model, train_dl, valid_dl, epochs, optimizer, scheduler)\u001b[0m\n\u001b[1;32m     14\u001b[0m             \u001b[0my_hat\u001b[0m \u001b[0;34m=\u001b[0m \u001b[0mmodel\u001b[0m\u001b[0;34m(\u001b[0m\u001b[0musers\u001b[0m\u001b[0;34m,\u001b[0m \u001b[0mitems\u001b[0m\u001b[0;34m,\u001b[0m \u001b[0mitem_feature\u001b[0m\u001b[0;34m,\u001b[0m \u001b[0mcontext_id\u001b[0m\u001b[0;34m)\u001b[0m\u001b[0;34m\u001b[0m\u001b[0;34m\u001b[0m\u001b[0m\n\u001b[1;32m     15\u001b[0m             \u001b[0mloss\u001b[0m \u001b[0;34m=\u001b[0m \u001b[0mF\u001b[0m\u001b[0;34m.\u001b[0m\u001b[0mbinary_cross_entropy_with_logits\u001b[0m\u001b[0;34m(\u001b[0m\u001b[0my_hat\u001b[0m\u001b[0;34m.\u001b[0m\u001b[0mfloat\u001b[0m\u001b[0;34m(\u001b[0m\u001b[0;34m)\u001b[0m\u001b[0;34m,\u001b[0m \u001b[0mratings\u001b[0m\u001b[0;34m.\u001b[0m\u001b[0munsqueeze\u001b[0m\u001b[0;34m(\u001b[0m\u001b[0;36m1\u001b[0m\u001b[0;34m)\u001b[0m\u001b[0;34m.\u001b[0m\u001b[0mfloat\u001b[0m\u001b[0;34m(\u001b[0m\u001b[0;34m)\u001b[0m\u001b[0;34m)\u001b[0m\u001b[0;34m\u001b[0m\u001b[0;34m\u001b[0m\u001b[0m\n\u001b[0;32m---> 16\u001b[0;31m             \u001b[0moptimizer\u001b[0m\u001b[0;34m.\u001b[0m\u001b[0mzero_grad\u001b[0m\u001b[0;34m(\u001b[0m\u001b[0;34m)\u001b[0m\u001b[0;34m\u001b[0m\u001b[0;34m\u001b[0m\u001b[0m\n\u001b[0m\u001b[1;32m     17\u001b[0m             \u001b[0mloss\u001b[0m\u001b[0;34m.\u001b[0m\u001b[0mbackward\u001b[0m\u001b[0;34m(\u001b[0m\u001b[0;34m)\u001b[0m\u001b[0;34m\u001b[0m\u001b[0;34m\u001b[0m\u001b[0m\n\u001b[1;32m     18\u001b[0m             \u001b[0moptimizer\u001b[0m\u001b[0;34m.\u001b[0m\u001b[0mstep\u001b[0m\u001b[0;34m(\u001b[0m\u001b[0;34m)\u001b[0m\u001b[0;34m\u001b[0m\u001b[0;34m\u001b[0m\u001b[0m\n",
      "\u001b[0;32m~/opt/anaconda3/lib/python3.8/site-packages/torch/optim/optimizer.py\u001b[0m in \u001b[0;36mzero_grad\u001b[0;34m(self, set_to_none)\u001b[0m\n\u001b[1;32m    215\u001b[0m                             \u001b[0;32melse\u001b[0m\u001b[0;34m:\u001b[0m\u001b[0;34m\u001b[0m\u001b[0;34m\u001b[0m\u001b[0m\n\u001b[1;32m    216\u001b[0m                                 \u001b[0mp\u001b[0m\u001b[0;34m.\u001b[0m\u001b[0mgrad\u001b[0m\u001b[0;34m.\u001b[0m\u001b[0mrequires_grad_\u001b[0m\u001b[0;34m(\u001b[0m\u001b[0;32mFalse\u001b[0m\u001b[0;34m)\u001b[0m\u001b[0;34m\u001b[0m\u001b[0;34m\u001b[0m\u001b[0m\n\u001b[0;32m--> 217\u001b[0;31m                             \u001b[0mp\u001b[0m\u001b[0;34m.\u001b[0m\u001b[0mgrad\u001b[0m\u001b[0;34m.\u001b[0m\u001b[0mzero_\u001b[0m\u001b[0;34m(\u001b[0m\u001b[0;34m)\u001b[0m\u001b[0;34m\u001b[0m\u001b[0;34m\u001b[0m\u001b[0m\n\u001b[0m\u001b[1;32m    218\u001b[0m \u001b[0;34m\u001b[0m\u001b[0m\n\u001b[1;32m    219\u001b[0m     \u001b[0;32mdef\u001b[0m \u001b[0mstep\u001b[0m\u001b[0;34m(\u001b[0m\u001b[0mself\u001b[0m\u001b[0;34m,\u001b[0m \u001b[0mclosure\u001b[0m\u001b[0;34m)\u001b[0m\u001b[0;34m:\u001b[0m\u001b[0;34m\u001b[0m\u001b[0;34m\u001b[0m\u001b[0m\n",
      "\u001b[0;31mKeyboardInterrupt\u001b[0m: "
     ]
    }
   ],
   "source": [
    "train_epocs(model,train_dl, valid_dl, epochs, optimizer,scheduler)"
   ]
  },
  {
   "cell_type": "code",
   "execution_count": 64,
   "id": "792e6c9b",
   "metadata": {
    "ExecuteTime": {
     "end_time": "2022-02-28T04:34:02.897996Z",
     "start_time": "2022-02-28T04:34:02.000919Z"
    }
   },
   "outputs": [],
   "source": [
    "user_ = torch.LongTensor(df_test.user_id.values) # .cuda()\n",
    "item_ = torch.LongTensor(df_test.item_id.values) #.cuda()\n",
    "feature_ = torch.LongTensor(df_test.item_feature_id.values) # .cuda()\n",
    "context_ = torch.LongTensor(df_test.context_feature_id.values) #.cuda()\n",
    "\n",
    "y_hat = model(user_, item_, feature_, context_)\n",
    "prob = pd.Series(torch.sigmoid(y_hat).flatten().detach().numpy()).reset_index().rename(columns={\"index\":'id',0:\"rating\"})\n",
    "prob.to_csv(\"submission_31\",index=False)"
   ]
  },
  {
   "cell_type": "code",
   "execution_count": null,
   "id": "24fc9f15",
   "metadata": {},
   "outputs": [],
   "source": []
  }
 ],
 "metadata": {
  "kernelspec": {
   "display_name": "Python 3 (ipykernel)",
   "language": "python",
   "name": "python3"
  },
  "language_info": {
   "codemirror_mode": {
    "name": "ipython",
    "version": 3
   },
   "file_extension": ".py",
   "mimetype": "text/x-python",
   "name": "python",
   "nbconvert_exporter": "python",
   "pygments_lexer": "ipython3",
   "version": "3.8.2"
  }
 },
 "nbformat": 4,
 "nbformat_minor": 5
}
