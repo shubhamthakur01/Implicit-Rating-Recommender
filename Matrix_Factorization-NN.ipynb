{
 "cells": [
  {
   "cell_type": "code",
   "execution_count": 43,
   "id": "ac9358bf",
   "metadata": {
    "ExecuteTime": {
     "end_time": "2022-02-27T05:38:40.158161Z",
     "start_time": "2022-02-27T05:38:40.142362Z"
    }
   },
   "outputs": [],
   "source": [
    "import torch.nn as nn\n",
    "import torch.autograd as autograd\n",
    "import torch\n",
    "import pandas as pd\n",
    "from pathlib import Path\n",
    "import numpy as np\n",
    "import torch.optim as optim\n",
    "from torch.utils.data import Dataset, DataLoader\n",
    "import torch.nn.functional as F\n",
    "import random\n",
    "from sklearn.metrics import roc_auc_score\n",
    "from model.py import *"
   ]
  },
  {
   "cell_type": "code",
   "execution_count": 44,
   "id": "bab70f53",
   "metadata": {
    "ExecuteTime": {
     "end_time": "2022-02-27T05:38:40.608785Z",
     "start_time": "2022-02-27T05:38:40.601967Z"
    }
   },
   "outputs": [],
   "source": [
    "PATH = Path(\"./\")"
   ]
  },
  {
   "cell_type": "markdown",
   "id": "303cc8d4",
   "metadata": {},
   "source": [
    "**reading the dataset**"
   ]
  },
  {
   "cell_type": "code",
   "execution_count": 45,
   "id": "b663a227",
   "metadata": {
    "ExecuteTime": {
     "end_time": "2022-02-27T05:38:41.532045Z",
     "start_time": "2022-02-27T05:38:41.303719Z"
    }
   },
   "outputs": [
    {
     "data": {
      "text/html": [
       "<div>\n",
       "<style scoped>\n",
       "    .dataframe tbody tr th:only-of-type {\n",
       "        vertical-align: middle;\n",
       "    }\n",
       "\n",
       "    .dataframe tbody tr th {\n",
       "        vertical-align: top;\n",
       "    }\n",
       "\n",
       "    .dataframe thead th {\n",
       "        text-align: right;\n",
       "    }\n",
       "</style>\n",
       "<table border=\"1\" class=\"dataframe\">\n",
       "  <thead>\n",
       "    <tr style=\"text-align: right;\">\n",
       "      <th></th>\n",
       "      <th>user_id</th>\n",
       "      <th>item_id</th>\n",
       "      <th>context_feature_id</th>\n",
       "    </tr>\n",
       "  </thead>\n",
       "  <tbody>\n",
       "    <tr>\n",
       "      <th>0</th>\n",
       "      <td>0</td>\n",
       "      <td>28366</td>\n",
       "      <td>2</td>\n",
       "    </tr>\n",
       "    <tr>\n",
       "      <th>1</th>\n",
       "      <td>0</td>\n",
       "      <td>16109</td>\n",
       "      <td>2</td>\n",
       "    </tr>\n",
       "    <tr>\n",
       "      <th>2</th>\n",
       "      <td>0</td>\n",
       "      <td>11500</td>\n",
       "      <td>3</td>\n",
       "    </tr>\n",
       "  </tbody>\n",
       "</table>\n",
       "</div>"
      ],
      "text/plain": [
       "   user_id  item_id  context_feature_id\n",
       "0        0    28366                   2\n",
       "1        0    16109                   2\n",
       "2        0    11500                   3"
      ]
     },
     "execution_count": 45,
     "metadata": {},
     "output_type": "execute_result"
    }
   ],
   "source": [
    "df_train = pd.read_csv(\"training.csv\")\n",
    "df_test = pd.read_csv(\"test_kaggle.csv\")\n",
    "df_test = df_test.drop(columns = [\"id\"])\n",
    "df_train.head(3)"
   ]
  },
  {
   "cell_type": "markdown",
   "id": "7749e9ac",
   "metadata": {},
   "source": [
    "**Context id is related to Users. It could be assumed as Android users, Iphone users etc.**"
   ]
  },
  {
   "cell_type": "code",
   "execution_count": 47,
   "id": "b695a824",
   "metadata": {
    "ExecuteTime": {
     "end_time": "2022-02-27T05:38:43.007625Z",
     "start_time": "2022-02-27T05:38:42.983635Z"
    }
   },
   "outputs": [
    {
     "data": {
      "text/plain": [
       "array([2, 3, 1, 0])"
      ]
     },
     "execution_count": 47,
     "metadata": {},
     "output_type": "execute_result"
    }
   ],
   "source": [
    "df_train.context_feature_id.unique()"
   ]
  },
  {
   "cell_type": "markdown",
   "id": "cae80a05",
   "metadata": {},
   "source": [
    "**Item id is a feature related to item. Can be considered as genre**"
   ]
  },
  {
   "cell_type": "code",
   "execution_count": 48,
   "id": "0973e898",
   "metadata": {
    "ExecuteTime": {
     "end_time": "2022-02-27T05:38:43.680394Z",
     "start_time": "2022-02-27T05:38:43.659243Z"
    }
   },
   "outputs": [],
   "source": [
    "df_item_f = pd.read_csv(\"item_feature.csv\")"
   ]
  },
  {
   "cell_type": "markdown",
   "id": "df2f36df",
   "metadata": {},
   "source": [
    "**Join the item_feature to items**"
   ]
  },
  {
   "cell_type": "code",
   "execution_count": 49,
   "id": "615d5a8a",
   "metadata": {
    "ExecuteTime": {
     "end_time": "2022-02-27T05:38:45.142215Z",
     "start_time": "2022-02-27T05:38:45.000009Z"
    }
   },
   "outputs": [],
   "source": [
    "df_train = df_train.merge(df_item_f,how=\"left\",on = \"item_id\")\n",
    "df_test = df_test.merge(df_item_f,how=\"left\",on = \"item_id\")"
   ]
  },
  {
   "cell_type": "code",
   "execution_count": 50,
   "id": "43da86fb",
   "metadata": {
    "ExecuteTime": {
     "end_time": "2022-02-27T05:38:46.525056Z",
     "start_time": "2022-02-27T05:38:46.479824Z"
    }
   },
   "outputs": [],
   "source": [
    "uniq_items = df_train.item_id.unique()\n",
    "uniq_user = df_train.user_id.unique()"
   ]
  },
  {
   "cell_type": "code",
   "execution_count": null,
   "id": "67968741",
   "metadata": {
    "ExecuteTime": {
     "end_time": "2022-02-27T05:38:52.714614Z",
     "start_time": "2022-02-27T05:38:46.917021Z"
    }
   },
   "outputs": [],
   "source": [
    "context_id_mode = df_train.groupby(['user_id']).context_feature_id.agg(lambda x: pd.Series.mode(x)[0]).reset_index()\n",
    "context_id_mode.head()"
   ]
  },
  {
   "cell_type": "code",
   "execution_count": 10,
   "id": "394d1e76",
   "metadata": {
    "ExecuteTime": {
     "end_time": "2022-02-27T00:44:53.276823Z",
     "start_time": "2022-02-27T00:44:52.889778Z"
    }
   },
   "outputs": [],
   "source": [
    "dict_user_cnt =dict(df_train.groupby(['user_id']).item_id.count())"
   ]
  },
  {
   "cell_type": "code",
   "execution_count": 11,
   "id": "55bce848",
   "metadata": {
    "ExecuteTime": {
     "end_time": "2022-02-27T00:44:53.282218Z",
     "start_time": "2022-02-27T00:44:53.277702Z"
    }
   },
   "outputs": [],
   "source": [
    "max_item_new = list(range(max(uniq_items)))"
   ]
  },
  {
   "cell_type": "markdown",
   "id": "fcd454fc",
   "metadata": {},
   "source": [
    "**Generating the negative Users**"
   ]
  },
  {
   "cell_type": "code",
   "execution_count": 12,
   "id": "074ece21",
   "metadata": {
    "ExecuteTime": {
     "end_time": "2022-02-27T00:51:52.716810Z",
     "start_time": "2022-02-27T00:44:53.283096Z"
    }
   },
   "outputs": [],
   "source": [
    "negative_users = []\n",
    "for user in dict_user_cnt:\n",
    "    items = np.random.choice(max_item_new, size =dict_user_cnt[user], replace= False )\n",
    "    for item in items:\n",
    "        negative_users.append( (user, item) )\n",
    "        \n",
    "df_neg = pd.DataFrame(negative_users, columns=['user_id', 'item_id'])"
   ]
  },
  {
   "cell_type": "code",
   "execution_count": 14,
   "id": "caf40db0",
   "metadata": {
    "ExecuteTime": {
     "end_time": "2022-02-27T00:51:53.302119Z",
     "start_time": "2022-02-27T00:51:53.145388Z"
    }
   },
   "outputs": [
    {
     "data": {
      "text/html": [
       "<div>\n",
       "<style scoped>\n",
       "    .dataframe tbody tr th:only-of-type {\n",
       "        vertical-align: middle;\n",
       "    }\n",
       "\n",
       "    .dataframe tbody tr th {\n",
       "        vertical-align: top;\n",
       "    }\n",
       "\n",
       "    .dataframe thead th {\n",
       "        text-align: right;\n",
       "    }\n",
       "</style>\n",
       "<table border=\"1\" class=\"dataframe\">\n",
       "  <thead>\n",
       "    <tr style=\"text-align: right;\">\n",
       "      <th></th>\n",
       "      <th>user_id</th>\n",
       "      <th>item_id</th>\n",
       "      <th>context_feature_id</th>\n",
       "      <th>item_feature_id</th>\n",
       "    </tr>\n",
       "  </thead>\n",
       "  <tbody>\n",
       "    <tr>\n",
       "      <th>0</th>\n",
       "      <td>0</td>\n",
       "      <td>17385</td>\n",
       "      <td>2</td>\n",
       "      <td>187</td>\n",
       "    </tr>\n",
       "    <tr>\n",
       "      <th>1</th>\n",
       "      <td>0</td>\n",
       "      <td>16121</td>\n",
       "      <td>2</td>\n",
       "      <td>62</td>\n",
       "    </tr>\n",
       "    <tr>\n",
       "      <th>2</th>\n",
       "      <td>0</td>\n",
       "      <td>9438</td>\n",
       "      <td>2</td>\n",
       "      <td>2</td>\n",
       "    </tr>\n",
       "    <tr>\n",
       "      <th>3</th>\n",
       "      <td>0</td>\n",
       "      <td>2433</td>\n",
       "      <td>2</td>\n",
       "      <td>142</td>\n",
       "    </tr>\n",
       "    <tr>\n",
       "      <th>4</th>\n",
       "      <td>0</td>\n",
       "      <td>24425</td>\n",
       "      <td>2</td>\n",
       "      <td>18</td>\n",
       "    </tr>\n",
       "  </tbody>\n",
       "</table>\n",
       "</div>"
      ],
      "text/plain": [
       "   user_id  item_id  context_feature_id  item_feature_id\n",
       "0        0    17385                   2              187\n",
       "1        0    16121                   2               62\n",
       "2        0     9438                   2                2\n",
       "3        0     2433                   2              142\n",
       "4        0    24425                   2               18"
      ]
     },
     "execution_count": 14,
     "metadata": {},
     "output_type": "execute_result"
    }
   ],
   "source": [
    "df_neg = df_neg.merge(context_id_mode, how= \"left\", on=\"user_id\")\n",
    "df_neg = df_neg.merge(df_item_f,how=\"left\",on = \"item_id\")\n",
    "df_neg.head(5)"
   ]
  },
  {
   "cell_type": "code",
   "execution_count": 15,
   "id": "eee68a78",
   "metadata": {
    "ExecuteTime": {
     "end_time": "2022-02-27T00:51:53.306605Z",
     "start_time": "2022-02-27T00:51:53.303069Z"
    }
   },
   "outputs": [],
   "source": [
    "df_train.insert(df_train.shape[1],'rating',1)\n",
    "df_neg.insert(df_neg.shape[1],'rating',0)"
   ]
  },
  {
   "cell_type": "markdown",
   "id": "27b4b6ea",
   "metadata": {},
   "source": [
    "**joining the training with negatively generated samples**"
   ]
  },
  {
   "cell_type": "code",
   "execution_count": 16,
   "id": "d016efdf",
   "metadata": {
    "ExecuteTime": {
     "end_time": "2022-02-27T00:51:53.349555Z",
     "start_time": "2022-02-27T00:51:53.307535Z"
    }
   },
   "outputs": [],
   "source": [
    "df = pd.concat([df_train, df_neg])"
   ]
  },
  {
   "cell_type": "code",
   "execution_count": 17,
   "id": "c2dcc404",
   "metadata": {
    "ExecuteTime": {
     "end_time": "2022-02-27T00:51:53.457809Z",
     "start_time": "2022-02-27T00:51:53.350481Z"
    }
   },
   "outputs": [
    {
     "data": {
      "text/html": [
       "<div>\n",
       "<style scoped>\n",
       "    .dataframe tbody tr th:only-of-type {\n",
       "        vertical-align: middle;\n",
       "    }\n",
       "\n",
       "    .dataframe tbody tr th {\n",
       "        vertical-align: top;\n",
       "    }\n",
       "\n",
       "    .dataframe thead th {\n",
       "        text-align: right;\n",
       "    }\n",
       "</style>\n",
       "<table border=\"1\" class=\"dataframe\">\n",
       "  <thead>\n",
       "    <tr style=\"text-align: right;\">\n",
       "      <th></th>\n",
       "      <th>user_id</th>\n",
       "      <th>item_id</th>\n",
       "      <th>context_feature_id</th>\n",
       "      <th>item_feature_id</th>\n",
       "    </tr>\n",
       "    <tr>\n",
       "      <th>rating</th>\n",
       "      <th></th>\n",
       "      <th></th>\n",
       "      <th></th>\n",
       "      <th></th>\n",
       "    </tr>\n",
       "  </thead>\n",
       "  <tbody>\n",
       "    <tr>\n",
       "      <th>0</th>\n",
       "      <td>970245</td>\n",
       "      <td>970245</td>\n",
       "      <td>970245</td>\n",
       "      <td>970245</td>\n",
       "    </tr>\n",
       "    <tr>\n",
       "      <th>1</th>\n",
       "      <td>970245</td>\n",
       "      <td>970245</td>\n",
       "      <td>970245</td>\n",
       "      <td>970245</td>\n",
       "    </tr>\n",
       "  </tbody>\n",
       "</table>\n",
       "</div>"
      ],
      "text/plain": [
       "        user_id  item_id  context_feature_id  item_feature_id\n",
       "rating                                                       \n",
       "0        970245   970245              970245           970245\n",
       "1        970245   970245              970245           970245"
      ]
     },
     "execution_count": 17,
     "metadata": {},
     "output_type": "execute_result"
    }
   ],
   "source": [
    "df.groupby('rating').count()"
   ]
  },
  {
   "cell_type": "code",
   "execution_count": 19,
   "id": "4ce754aa",
   "metadata": {
    "ExecuteTime": {
     "end_time": "2022-02-27T00:51:53.508453Z",
     "start_time": "2022-02-27T00:51:53.462094Z"
    }
   },
   "outputs": [
    {
     "data": {
      "text/html": [
       "<div>\n",
       "<style scoped>\n",
       "    .dataframe tbody tr th:only-of-type {\n",
       "        vertical-align: middle;\n",
       "    }\n",
       "\n",
       "    .dataframe tbody tr th {\n",
       "        vertical-align: top;\n",
       "    }\n",
       "\n",
       "    .dataframe thead th {\n",
       "        text-align: right;\n",
       "    }\n",
       "</style>\n",
       "<table border=\"1\" class=\"dataframe\">\n",
       "  <thead>\n",
       "    <tr style=\"text-align: right;\">\n",
       "      <th></th>\n",
       "      <th>user_id</th>\n",
       "      <th>item_id</th>\n",
       "      <th>context_feature_id</th>\n",
       "      <th>item_feature_id</th>\n",
       "    </tr>\n",
       "    <tr>\n",
       "      <th>rating</th>\n",
       "      <th></th>\n",
       "      <th></th>\n",
       "      <th></th>\n",
       "      <th></th>\n",
       "    </tr>\n",
       "  </thead>\n",
       "  <tbody>\n",
       "    <tr>\n",
       "      <th>0</th>\n",
       "      <td>970245</td>\n",
       "      <td>970245</td>\n",
       "      <td>970245</td>\n",
       "      <td>970245</td>\n",
       "    </tr>\n",
       "    <tr>\n",
       "      <th>1</th>\n",
       "      <td>970245</td>\n",
       "      <td>970245</td>\n",
       "      <td>970245</td>\n",
       "      <td>970245</td>\n",
       "    </tr>\n",
       "  </tbody>\n",
       "</table>\n",
       "</div>"
      ],
      "text/plain": [
       "        user_id  item_id  context_feature_id  item_feature_id\n",
       "rating                                                       \n",
       "0        970245   970245              970245           970245\n",
       "1        970245   970245              970245           970245"
      ]
     },
     "execution_count": 19,
     "metadata": {},
     "output_type": "execute_result"
    }
   ],
   "source": [
    "df.groupby('rating').count()"
   ]
  },
  {
   "cell_type": "code",
   "execution_count": null,
   "id": "0d6c5081",
   "metadata": {
    "ExecuteTime": {
     "end_time": "2022-02-27T05:39:00.048597Z",
     "start_time": "2022-02-27T05:38:59.960254Z"
    }
   },
   "outputs": [],
   "source": [
    "df.to_csv(\"new_date_with_dup_repeat.csv\")"
   ]
  },
  {
   "cell_type": "markdown",
   "id": "1927d552",
   "metadata": {},
   "source": [
    "**Read the saved DATA and the test Data**"
   ]
  },
  {
   "cell_type": "code",
   "execution_count": 38,
   "id": "dc183642",
   "metadata": {
    "ExecuteTime": {
     "end_time": "2022-03-16T06:11:44.996271Z",
     "start_time": "2022-03-16T06:11:44.989697Z"
    }
   },
   "outputs": [],
   "source": [
    "import torch.nn as nn\n",
    "import torch.autograd as autograd\n",
    "import torch\n",
    "import pandas as pd\n",
    "from pathlib import Path\n",
    "import numpy as np\n",
    "import torch.optim as optim\n",
    "from torch.utils.data import Dataset, DataLoader\n",
    "import torch.nn.functional as F\n",
    "import random\n",
    "from sklearn.metrics import roc_auc_score"
   ]
  },
  {
   "cell_type": "code",
   "execution_count": 39,
   "id": "d91703ca",
   "metadata": {
    "ExecuteTime": {
     "end_time": "2022-03-16T06:11:52.407085Z",
     "start_time": "2022-03-16T06:11:51.925357Z"
    }
   },
   "outputs": [],
   "source": [
    "df = pd.read_csv(\"../../Spring/module_2/advanced_ml/Final_Project/new_date_with_dup_repeat.csv\")"
   ]
  },
  {
   "cell_type": "code",
   "execution_count": 40,
   "id": "47caf953",
   "metadata": {
    "ExecuteTime": {
     "end_time": "2022-03-16T06:11:53.529132Z",
     "start_time": "2022-03-16T06:11:53.366488Z"
    }
   },
   "outputs": [],
   "source": [
    "df_test = pd.read_csv(\"../../Spring/module_2/advanced_ml/Final_Project/test_kaggle.csv\")\n",
    "df_test = df_test.drop(columns = [\"id\"])\n",
    "df_item_f = pd.read_csv(\"../../Spring/module_2/advanced_ml/Final_Project/item_feature.csv\")\n",
    "df_test = df_test.merge(df_item_f,how=\"left\",on = \"item_id\")"
   ]
  },
  {
   "cell_type": "markdown",
   "id": "56c90fa6",
   "metadata": {},
   "source": [
    "**Splitting the Data into train and validation set**"
   ]
  },
  {
   "cell_type": "code",
   "execution_count": 41,
   "id": "3c9175de",
   "metadata": {
    "ExecuteTime": {
     "end_time": "2022-03-16T06:11:55.007827Z",
     "start_time": "2022-03-16T06:11:54.862073Z"
    }
   },
   "outputs": [],
   "source": [
    "msk = np.random.rand(len(df)) < 0.8\n",
    "train = df[msk].reset_index(drop=True).copy()\n",
    "valid = df[~msk].reset_index(drop=True).copy()"
   ]
  },
  {
   "cell_type": "markdown",
   "id": "34276d2a",
   "metadata": {},
   "source": [
    "**encoding the ids**"
   ]
  },
  {
   "cell_type": "code",
   "execution_count": 42,
   "id": "6a12e9e6",
   "metadata": {
    "ExecuteTime": {
     "end_time": "2022-03-16T06:11:55.870628Z",
     "start_time": "2022-03-16T06:11:55.863749Z"
    }
   },
   "outputs": [],
   "source": [
    "def encode_feature(train, valid, test, encode_dict, feature):\n",
    "    train[feature] = train[feature].apply(lambda x: encode_dict[x])\n",
    "    valid[feature] = valid[feature].apply(lambda x: encode_dict.get(x, 0))\n",
    "    test[feature] = test[feature].apply(lambda x: encode_dict.get(x, 0))\n",
    "    return train, valid, test"
   ]
  },
  {
   "cell_type": "code",
   "execution_count": 43,
   "id": "32e5986d",
   "metadata": {
    "ExecuteTime": {
     "end_time": "2022-03-16T06:12:01.314825Z",
     "start_time": "2022-03-16T06:11:57.864752Z"
    }
   },
   "outputs": [],
   "source": [
    "# User id\n",
    "train_user_ids = np.sort(np.unique(train.user_id.values))\n",
    "userid2idx = {o:i+1 for i,o in enumerate(train_user_ids)}\n",
    "train, valid, df_test = encode_feature(train, valid, df_test, userid2idx, \"user_id\")\n",
    "\n",
    "# Item_id Encoding\n",
    "train_item_ids = np.sort(np.unique(train.item_id.values))\n",
    "itemid2idx = {o:i+1 for i,o in enumerate(train_item_ids)}\n",
    "train, valid, df_test = encode_feature(train, valid, df_test, itemid2idx, \"item_id\")\n",
    "\n",
    "#Item Feature id encoding\n",
    "train_item_feature_ids = np.sort(np.unique(train.item_feature_id.values))\n",
    "featureid2idx = {o:i for i,o in enumerate(train_item_feature_ids)}\n",
    "train, valid, df_test = encode_feature(train, valid, df_test, featureid2idx, \"item_feature_id\")\n",
    "\n",
    "#Item Context id encoding \n",
    "train_context_feature_ids = np.sort(np.unique(train.context_feature_id.values))\n",
    "contextid2idx = {o:i for i,o in enumerate(train_context_feature_ids)}\n",
    "train, valid, df_test = encode_feature(train, valid, df_test, contextid2idx, \"context_feature_id\")"
   ]
  },
  {
   "cell_type": "markdown",
   "id": "b6c8d8fd",
   "metadata": {},
   "source": [
    "## Create DataLoader"
   ]
  },
  {
   "cell_type": "code",
   "execution_count": 44,
   "id": "0bf38165",
   "metadata": {
    "ExecuteTime": {
     "end_time": "2022-03-16T06:12:01.388690Z",
     "start_time": "2022-03-16T06:12:01.384278Z"
    }
   },
   "outputs": [],
   "source": [
    "class Dataset():\n",
    "    def __init__(self, x1, x2,x3,x4, y):\n",
    "        self.x1 = torch.LongTensor(x1) \n",
    "        self.x2 = torch.LongTensor(x2)\n",
    "        self.x3 = torch.LongTensor(x3)\n",
    "        self.x4 = torch.LongTensor(x4)\n",
    "        self.y = torch.FloatTensor(y)\n",
    "    \n",
    "    def __len__(self):\n",
    "        return len(self.y)\n",
    "    \n",
    "    def __getitem__(self,idx):\n",
    "        return self.x1[idx], self.x2[idx], self.x3[idx], self.x4[idx],self.y[idx]"
   ]
  },
  {
   "cell_type": "code",
   "execution_count": 45,
   "id": "c631f2e3",
   "metadata": {
    "ExecuteTime": {
     "end_time": "2022-03-16T06:12:01.828563Z",
     "start_time": "2022-03-16T06:12:01.810808Z"
    }
   },
   "outputs": [],
   "source": [
    "train_ds = Dataset(train.user_id.values,train.item_id.values,\\\n",
    "                                train.item_feature_id.values,train.context_feature_id.values, train.rating.values)\n",
    "\n",
    "valid_ds = Dataset(valid.user_id.values,valid.item_id.values,\\\n",
    "                                valid.item_feature_id.values,valid.context_feature_id.values, valid.rating.values)"
   ]
  },
  {
   "cell_type": "code",
   "execution_count": 46,
   "id": "78f58fb2",
   "metadata": {
    "ExecuteTime": {
     "end_time": "2022-03-16T06:12:05.028697Z",
     "start_time": "2022-03-16T06:12:05.022235Z"
    }
   },
   "outputs": [],
   "source": [
    "train_dl = DataLoader(train_ds, batch_size = 15000, shuffle = True)\n",
    "valid_dl = DataLoader(valid_ds, batch_size = 15000, shuffle = False)"
   ]
  },
  {
   "cell_type": "markdown",
   "id": "73b2237f",
   "metadata": {
    "ExecuteTime": {
     "end_time": "2022-03-16T06:24:29.842044Z",
     "start_time": "2022-03-16T06:24:29.835735Z"
    }
   },
   "source": [
    "## Creating training loop"
   ]
  },
  {
   "cell_type": "code",
   "execution_count": 47,
   "id": "710e31fd",
   "metadata": {
    "ExecuteTime": {
     "end_time": "2022-03-16T06:12:12.888560Z",
     "start_time": "2022-03-16T06:12:12.876066Z"
    }
   },
   "outputs": [],
   "source": [
    "# here we are not using data loaders because our data fits well in memory\n",
    "def train_epocs(model,train_dl, valid_dl, epochs, optimizer,scheduler):\n",
    "    \n",
    "    for i in range(epochs):\n",
    "        print(f\"epoch no: {i}\")\n",
    "        losses = []\n",
    "        model.train()\n",
    "        for users, items, item_feature, context_id, ratings in train_dl:\n",
    "            msk = np.random.rand(users.shape[0]) < 0.70\n",
    "            users[~msk] = 0\n",
    "            y_hat = model(users, items, item_feature, context_id)\n",
    "            loss = F.binary_cross_entropy_with_logits(y_hat.float(), ratings.unsqueeze(1).float())\n",
    "            optimizer.zero_grad()\n",
    "            loss.backward()\n",
    "            optimizer.step()\n",
    "            losses.append(loss.item())\n",
    "        scheduler.step()\n",
    "        \n",
    "        #print(losses)\n",
    "        train_loss = np.mean(losses)\n",
    "        valid_loss,valid_auc = val_metrics(model, valid_dl)\n",
    "        print(\"train loss %.3f valid loss %.3f auc-roc %.3f\" % (train_loss, valid_loss, valid_auc))"
   ]
  },
  {
   "cell_type": "markdown",
   "id": "15e01428",
   "metadata": {},
   "source": [
    "## Create Validation loop"
   ]
  },
  {
   "cell_type": "code",
   "execution_count": 48,
   "id": "ed5f4da2",
   "metadata": {
    "ExecuteTime": {
     "end_time": "2022-03-16T06:12:14.980255Z",
     "start_time": "2022-03-16T06:12:14.969116Z"
    }
   },
   "outputs": [],
   "source": [
    "def val_metrics(model, valid_dl):\n",
    "    model.eval()\n",
    "    losses = []\n",
    "    y_hats = []\n",
    "    ys = []\n",
    "    for users, items, item_feature, context_id, ratings in valid_dl:\n",
    "        y_hat = model(users, items, item_feature, context_id)\n",
    "        loss = F.binary_cross_entropy_with_logits(y_hat.float(), ratings.unsqueeze(1).float())\n",
    "        y_hats.append(y_hat.detach().numpy())\n",
    "        ys.append(ratings.numpy())\n",
    "        losses.append(loss.item())\n",
    "    ys = np.concatenate(ys)\n",
    "    y_hats = np.concatenate(y_hats)\n",
    "    #print(y_hats.shape,ys.shape )\n",
    "    return np.mean(losses), roc_auc_score(ys, y_hats)"
   ]
  },
  {
   "cell_type": "code",
   "execution_count": 49,
   "id": "e8a6ff41",
   "metadata": {
    "ExecuteTime": {
     "end_time": "2022-03-16T06:12:19.494267Z",
     "start_time": "2022-03-16T06:12:19.448703Z"
    }
   },
   "outputs": [],
   "source": [
    "num_users = len(train_user_ids)\n",
    "num_items = len(train_item_ids)\n",
    "num_feature = len(df.item_feature_id.unique())\n",
    "num_context = len(df.context_feature_id.unique())"
   ]
  },
  {
   "cell_type": "code",
   "execution_count": 50,
   "id": "d7319022",
   "metadata": {
    "ExecuteTime": {
     "end_time": "2022-03-16T06:12:23.112728Z",
     "start_time": "2022-03-16T06:12:22.804118Z"
    }
   },
   "outputs": [],
   "source": [
    "model = MF(num_users+1, num_items+1,num_feature,num_context, emb_size = 75, emb_extra = 50,\n",
    "           layer_size_1 = 25,layer_size_2 = 5,frac = 0.15)"
   ]
  },
  {
   "cell_type": "code",
   "execution_count": 36,
   "id": "5c9ae65a",
   "metadata": {
    "ExecuteTime": {
     "end_time": "2022-03-16T06:06:40.838201Z",
     "start_time": "2022-03-16T06:06:40.835845Z"
    }
   },
   "outputs": [],
   "source": [
    "from torch.optim.lr_scheduler import StepLR,ExponentialLR\n",
    "learning_rate = 0.005\n",
    "wd=0.5\n",
    "epochs = 6\n",
    "optimizer = torch.optim.AdamW(model.parameters(), lr=learning_rate,weight_decay=wd)\n",
    "scheduler = ExponentialLR(optimizer, gamma=0.9)"
   ]
  },
  {
   "cell_type": "code",
   "execution_count": 37,
   "id": "41e24a07",
   "metadata": {
    "ExecuteTime": {
     "end_time": "2022-03-16T06:10:36.598776Z",
     "start_time": "2022-03-16T06:06:41.652392Z"
    }
   },
   "outputs": [
    {
     "name": "stdout",
     "output_type": "stream",
     "text": [
      "epoch no: 0\n",
      "train loss 0.448 valid loss 0.321 auc-roc 0.935\n",
      "epoch no: 1\n",
      "train loss 0.332 valid loss 0.314 auc-roc 0.938\n",
      "epoch no: 2\n",
      "train loss 0.299 valid loss 0.314 auc-roc 0.940\n",
      "epoch no: 3\n",
      "train loss 0.260 valid loss 0.316 auc-roc 0.944\n",
      "epoch no: 4\n",
      "train loss 0.235 valid loss 0.317 auc-roc 0.947\n",
      "epoch no: 5\n",
      "train loss 0.217 valid loss 0.325 auc-roc 0.948\n"
     ]
    }
   ],
   "source": [
    "train_epocs(model,train_dl, valid_dl, epochs, optimizer,scheduler)"
   ]
  },
  {
   "cell_type": "code",
   "execution_count": 38,
   "id": "792e6c9b",
   "metadata": {
    "ExecuteTime": {
     "end_time": "2022-02-27T06:23:42.348145Z",
     "start_time": "2022-02-27T06:23:41.444240Z"
    }
   },
   "outputs": [],
   "source": [
    "user_ = torch.LongTensor(df_test.user_id.values) # .cuda()\n",
    "item_ = torch.LongTensor(df_test.item_id.values) #.cuda()\n",
    "feature_ = torch.LongTensor(df_test.item_feature_id.values) # .cuda()\n",
    "context_ = torch.LongTensor(df_test.context_feature_id.values) #.cuda()\n",
    "\n",
    "y_hat = model(user_, item_, feature_, context_)\n",
    "prob = pd.Series(torch.sigmoid(y_hat).flatten().detach().numpy()).reset_index().rename(columns={\"index\":'id',0:\"rating\"})\n",
    "prob.to_csv(\"submission_27\",index=False)"
   ]
  }
 ],
 "metadata": {
  "kernelspec": {
   "display_name": "Python 3 (ipykernel)",
   "language": "python",
   "name": "python3"
  },
  "language_info": {
   "codemirror_mode": {
    "name": "ipython",
    "version": 3
   },
   "file_extension": ".py",
   "mimetype": "text/x-python",
   "name": "python",
   "nbconvert_exporter": "python",
   "pygments_lexer": "ipython3",
   "version": "3.8.2"
  }
 },
 "nbformat": 4,
 "nbformat_minor": 5
}
